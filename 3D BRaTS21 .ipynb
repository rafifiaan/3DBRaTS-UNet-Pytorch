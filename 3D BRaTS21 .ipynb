{
 "cells": [
  {
   "cell_type": "markdown",
   "id": "43ead93c",
   "metadata": {},
   "source": [
    "### Setup Install"
   ]
  },
  {
   "cell_type": "code",
   "execution_count": null,
   "id": "a566191c",
   "metadata": {},
   "outputs": [],
   "source": [
    "!pip install nibabel \n",
    "!pip install glob2"
   ]
  },
  {
   "cell_type": "markdown",
   "id": "edfe0fa7",
   "metadata": {
    "scrolled": true
   },
   "source": [
    "### Setup Import"
   ]
  },
  {
   "cell_type": "code",
   "execution_count": null,
   "id": "9c11c283",
   "metadata": {},
   "outputs": [],
   "source": [
    "import nibabel as nib\n",
    "import numpy as np\n",
    "import glob\n",
    "import matplotlib.pyplot as plt\n",
    "import torch \n",
    "from torch.utils import data as torch_data"
   ]
  },
  {
   "cell_type": "markdown",
   "id": "6c3c04d2",
   "metadata": {},
   "source": [
    "### Data Pre-processing\n",
    "Pairing & Classification Datasets "
   ]
  },
  {
   "cell_type": "code",
   "execution_count": null,
   "id": "85593645",
   "metadata": {
    "scrolled": true
   },
   "outputs": [],
   "source": [
    "paths = './training_data'\n",
    "path = glob.glob(paths+'/*')\n",
    "arrays = []\n",
    "segmen = []\n",
    "types = [\"flair\", \"t1\", \"t1ce\",\"t2\"]\n",
    "\n",
    "for a in path:\n",
    "    trainData = glob.glob(a+'/*') \n",
    "    for modality in trainData:\n",
    "        strsplit = modality.split('_')\n",
    "        typefiles = strsplit[4].split('.')[0]\n",
    "        if typefiles in types:\n",
    "            nifti_file = nib.load(modality)\n",
    "            brain_affine = nifti_file.affine # \n",
    "            brain_numpy = np.asarray(nifti_file.dataobj)\n",
    "            dataPad = np.pad(brain_numpy, ((8,8), (8,8), (50,51)), 'constant')\n",
    "            dataPad = dataPad/np.max(dataPad)\n",
    "            arrays.append(dataPad)\n",
    "        else:\n",
    "            nifti_file = nib.load(modality)\n",
    "            brain_affine = nifti_file.affine\n",
    "            brain_numpy = np.asarray(nifti_file.dataobj)\n",
    "            dataPad = np.pad(brain_numpy, ((8,8), (8,8), (50,51)), 'constant')\n",
    "            dataPad = dataPad/np.max(dataPad)\n",
    "            segmen.append(dataPad)\n",
    "\n",
    "    newDataArrays = nib.Nifti1Image(np.asarray(arrays), nifti_file.affine, nifti_file.header)\n",
    "    nib.save(newDataArrays, './train/BraTS2021_'+ a.split('_')[2] + '.nii')\n",
    "\n",
    "    newDataSegmen = nib.Nifti1Image(np.asarray(segmen), nifti_file.affine, nifti_file.header)\n",
    "    nib.save(newDataSegmen, './label/BraTS2021_'+ a.split('_')[2] + '.nii')"
   ]
  },
  {
   "cell_type": "markdown",
   "id": "3a928b90",
   "metadata": {},
   "source": [
    "### Visualize Test "
   ]
  },
  {
   "cell_type": "code",
   "execution_count": null,
   "id": "eca19dbd",
   "metadata": {},
   "outputs": [],
   "source": [
    "dataTest = './training_data/BraTS2021_00495/BraTS2021_00495_t1.nii.gz'\n",
    "img1 = nib.load(dataTest)\n",
    "np.shape(img1.dataobj)\n",
    "plt.imshow(img1.dataobj[:,:,145])"
   ]
  },
  {
   "cell_type": "code",
   "execution_count": null,
   "id": "16411043",
   "metadata": {},
   "outputs": [],
   "source": [
    "dataTest = './train/BraTS2021_00495.nii'\n",
    "img2 = nib.load(dataTest)\n",
    "np.shape(img2.dataobj)\n",
    "plt.imshow(img2.dataobj[1,:,:,195])"
   ]
  },
  {
   "cell_type": "markdown",
   "id": "cdbc19e2",
   "metadata": {},
   "source": [
    "### Dictionary"
   ]
  },
  {
   "cell_type": "code",
   "execution_count": null,
   "id": "6a007ac7",
   "metadata": {},
   "outputs": [],
   "source": [
    "image_train = sorted(glob.glob('./train/*'))\n",
    "label_train = sorted(glob.glob('./label/*'))\n",
    "\n",
    "trainDict = [\n",
    "    {\n",
    "        \"images\": image_trains,\n",
    "        \"label\": label_trains,\n",
    "    } for image_trains, label_trains in zip(image_train, label_train)]"
   ]
  },
  {
   "cell_type": "markdown",
   "id": "5ee1040d",
   "metadata": {},
   "source": [
    "### Datasets Class"
   ]
  },
  {
   "cell_type": "code",
   "execution_count": null,
   "id": "b0385230",
   "metadata": {},
   "outputs": [],
   "source": [
    "class DatasetsMRI(torch_data.Dataset):\n",
    "    def __init__(self, data_root, transform=None, target_transform=None):\n",
    "        super(DatasetsMRI, self).__init__()\n",
    "        self.data_root = data_root\n",
    "        self.transform = transform\n",
    "        self.target_transform = target_transform\n",
    "        \n",
    "    def __len__(self):\n",
    "        return len(self.data_root)\n",
    "    \n",
    "    def __getitem__(self, index:int) -> tuple:\n",
    "        print(self.data_root[0])\n",
    "        \n",
    "#     return image_train1, labels_train1"
   ]
  },
  {
   "cell_type": "code",
   "execution_count": null,
   "id": "76d56a6b",
   "metadata": {},
   "outputs": [],
   "source": [
    "testDatasets = DatasetsMRI(trainDict)"
   ]
  },
  {
   "cell_type": "markdown",
   "id": "6b844b78",
   "metadata": {},
   "source": [
    "### Mixed Code (unpairing)"
   ]
  },
  {
   "cell_type": "code",
   "execution_count": null,
   "id": "70b3f290",
   "metadata": {},
   "outputs": [],
   "source": [
    "normalized = n2_img.get_fdata().astype(np.float32) / n2_img.get_fdata().max()\n",
    "print(normalized.shape)\n",
    "print(np.max(normalized))"
   ]
  },
  {
   "cell_type": "code",
   "execution_count": null,
   "id": "999a8f0e",
   "metadata": {},
   "outputs": [],
   "source": [
    "# pick one image from DecathlonDataset to visualize and check the 4 channels\n",
    "val_data_example = val_ds[2]\n",
    "print(f\"image shape: {val_data_example['image'].shape}\")\n",
    "plt.figure(\"image\", (24, 6))\n",
    "for i in range(4):\n",
    "    plt.subplot(1, 4, i + 1)\n",
    "    plt.title(f\"image channel {i}\")\n",
    "    plt.imshow(val_data_example[\"image\"][i, :, :, 60].detach().cpu(), cmap=\"gray\")\n",
    "plt.show()\n",
    "# also visualize the 3 channels label corresponding to this image\n",
    "print(f\"label shape: {val_data_example['label'].shape}\")\n",
    "plt.figure(\"label\", (18, 6))\n",
    "for i in range(3):\n",
    "    plt.subplot(1, 3, i + 1)\n",
    "    plt.title(f\"label channel {i}\")\n",
    "    plt.imshow(val_data_example[\"label\"][i, :, :, 60].detach().cpu())\n",
    "plt.show()"
   ]
  }
 ],
 "metadata": {
  "kernelspec": {
   "display_name": "Python 3 (ipykernel)",
   "language": "python",
   "name": "python3"
  },
  "language_info": {
   "codemirror_mode": {
    "name": "ipython",
    "version": 3
   },
   "file_extension": ".py",
   "mimetype": "text/x-python",
   "name": "python",
   "nbconvert_exporter": "python",
   "pygments_lexer": "ipython3",
   "version": "3.11.4"
  }
 },
 "nbformat": 4,
 "nbformat_minor": 5
}
